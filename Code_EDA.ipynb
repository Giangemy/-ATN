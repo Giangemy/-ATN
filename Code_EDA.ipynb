{
 "cells": [
  {
   "cell_type": "code",
   "execution_count": 1,
   "metadata": {},
   "outputs": [
    {
     "name": "stdout",
     "output_type": "stream",
     "text": [
      "<class 'pandas.core.frame.DataFrame'>\n",
      "RangeIndex: 8768 entries, 0 to 8767\n",
      "Data columns (total 8 columns):\n",
      " #   Column    Non-Null Count  Dtype \n",
      "---  ------    --------------  ----- \n",
      " 0   Ngày      2192 non-null   object\n",
      " 1   Giờ đo    8768 non-null   object\n",
      " 2   X. QUAN   8768 non-null   object\n",
      " 3   CẦU CẤT   8768 non-null   object\n",
      " 4   CẦU XE    8768 non-null   object\n",
      " 5   AN THỔ    8768 non-null   object\n",
      " 6   LỰC ĐIỀN  8768 non-null   object\n",
      " 7   BÁ THUỶ   8768 non-null   object\n",
      "dtypes: object(8)\n",
      "memory usage: 548.1+ KB\n",
      "None\n",
      "                  Ngày Giờ đo X. QUAN CẦU CẤT CẦU XE AN THỔ LỰC ĐIỀN BÁ THUỶ\n",
      "0  2015-01-01 00:00:00     1h      38      60     55     60       63      51\n",
      "1                  NaN     7h      78      95     85     78       46      48\n",
      "2                  NaN    13h      90      40     18     17       43      45\n",
      "3                  NaN    19h      50       0    -17    -19       40      26\n",
      "4  2015-01-02 00:00:00     1h      40     100     65     48       34      23\n"
     ]
    }
   ],
   "source": [
    "import pandas as pd\n",
    "import numpy as np\n",
    "import matplotlib.pyplot as plt\n",
    "import seaborn as sns\n",
    "data = '../Data/MN2015_2020_2DoAn_CNTT.xlsx'\n",
    "df = pd.read_excel(data)\n",
    "\n",
    "print(df.info())\n",
    "print(df.head())\n"
   ]
  },
  {
   "cell_type": "code",
   "execution_count": 3,
   "metadata": {},
   "outputs": [
    {
     "data": {
      "text/plain": [
       "Ngày        6576\n",
       "Giờ đo         0\n",
       "X. QUAN        0\n",
       "CẦU CẤT        0\n",
       "CẦU XE         0\n",
       "AN THỔ         0\n",
       "LỰC ĐIỀN       0\n",
       "BÁ THUỶ        0\n",
       "dtype: int64"
      ]
     },
     "execution_count": 3,
     "metadata": {},
     "output_type": "execute_result"
    }
   ],
   "source": [
    "df.isnull().sum()\n"
   ]
  },
  {
   "cell_type": "code",
   "execution_count": 4,
   "metadata": {},
   "outputs": [
    {
     "name": "stdout",
     "output_type": "stream",
     "text": [
      "                  Ngày Giờ đo Giờ chuẩn            Datetime\n",
      "0  2015-01-01 00:00:00     1h  01:00:00 2015-01-01 01:00:00\n",
      "1  2015-01-01 00:00:00     7h  07:00:00 2015-01-01 07:00:00\n",
      "2  2015-01-01 00:00:00    13h  13:00:00 2015-01-01 13:00:00\n",
      "3  2015-01-01 00:00:00    19h  19:00:00 2015-01-01 19:00:00\n",
      "4  2015-01-02 00:00:00     1h  01:00:00 2015-01-02 01:00:00\n",
      "5  2015-01-02 00:00:00     7h  07:00:00 2015-01-02 07:00:00\n",
      "6  2015-01-02 00:00:00    13h  13:00:00 2015-01-02 13:00:00\n",
      "7  2015-01-02 00:00:00    19h  19:00:00 2015-01-02 19:00:00\n",
      "8  2015-01-03 00:00:00     1h  01:00:00 2015-01-03 01:00:00\n",
      "9  2015-01-03 00:00:00     7h  07:00:00 2015-01-03 07:00:00\n"
     ]
    }
   ],
   "source": [
    "\n",
    "# Bước 1: Điền giá trị ngày bị thiếu\n",
    "df['Ngày'] = df['Ngày'].ffill()\n",
    "\n",
    "# Bước 2: Chuẩn hóa cột 'Giờ đo', ví dụ '1h' -> '01:00:00'\n",
    "def convert_hour(h):\n",
    "    h = str(h).strip().replace('h', '')\n",
    "    try:\n",
    "        h = int(h)\n",
    "        return f'{h:02d}:00:00'\n",
    "    except:\n",
    "        return None  # hoặc '00:00:00'\n",
    "\n",
    "df['Giờ chuẩn'] = df['Giờ đo'].apply(convert_hour)\n",
    "\n",
    "# Bước 3: Tạo cột datetime từ 'Ngày' và 'Giờ chuẩn'\n",
    "df['Datetime'] = pd.to_datetime(df['Ngày'].astype(str).str[:10] + ' ' + df['Giờ chuẩn'], errors='coerce')\n",
    "\n",
    "# Kiểm tra kết quả\n",
    "print(df[['Ngày', 'Giờ đo', 'Giờ chuẩn', 'Datetime']].head(10))\n"
   ]
  },
  {
   "cell_type": "code",
   "execution_count": 15,
   "metadata": {},
   "outputs": [],
   "source": [
    "numeric_cols = df.select_dtypes(include = 'number').columns"
   ]
  },
  {
   "cell_type": "code",
   "execution_count": 5,
   "metadata": {},
   "outputs": [],
   "source": [
    "# Chuyển các cột dữ liệu về dạng số (nếu có lỗi thì thành NaN)\n",
    "cols_to_numeric = ['X. QUAN', 'CẦU CẤT', 'CẦU XE', 'AN THỔ', 'LỰC ĐIỀN', 'BÁ THUỶ']\n",
    "for col in cols_to_numeric:\n",
    "    df[col] = pd.to_numeric(df[col], errors='coerce')\n",
    "\n",
    "# Điền giá trị thiếu trong các cột số bằng trung bình từng cột\n",
    "df[cols_to_numeric] = df[cols_to_numeric].fillna(df[cols_to_numeric].mean())\n"
   ]
  },
  {
   "cell_type": "code",
   "execution_count": 7,
   "metadata": {},
   "outputs": [
    {
     "data": {
      "text/html": [
       "<div>\n",
       "<style scoped>\n",
       "    .dataframe tbody tr th:only-of-type {\n",
       "        vertical-align: middle;\n",
       "    }\n",
       "\n",
       "    .dataframe tbody tr th {\n",
       "        vertical-align: top;\n",
       "    }\n",
       "\n",
       "    .dataframe thead th {\n",
       "        text-align: right;\n",
       "    }\n",
       "</style>\n",
       "<table border=\"1\" class=\"dataframe\">\n",
       "  <thead>\n",
       "    <tr style=\"text-align: right;\">\n",
       "      <th></th>\n",
       "      <th>count</th>\n",
       "      <th>mean</th>\n",
       "      <th>min</th>\n",
       "      <th>25%</th>\n",
       "      <th>50%</th>\n",
       "      <th>75%</th>\n",
       "      <th>max</th>\n",
       "      <th>std</th>\n",
       "    </tr>\n",
       "  </thead>\n",
       "  <tbody>\n",
       "    <tr>\n",
       "      <th>X. QUAN</th>\n",
       "      <td>8768.0</td>\n",
       "      <td>191.48151</td>\n",
       "      <td>0.185</td>\n",
       "      <td>120.0</td>\n",
       "      <td>171.0</td>\n",
       "      <td>225.0</td>\n",
       "      <td>827.0</td>\n",
       "      <td>112.534939</td>\n",
       "    </tr>\n",
       "    <tr>\n",
       "      <th>CẦU CẤT</th>\n",
       "      <td>8768.0</td>\n",
       "      <td>98.899903</td>\n",
       "      <td>-29.0</td>\n",
       "      <td>60.0</td>\n",
       "      <td>98.899903</td>\n",
       "      <td>131.0</td>\n",
       "      <td>328.0</td>\n",
       "      <td>52.923721</td>\n",
       "    </tr>\n",
       "    <tr>\n",
       "      <th>CẦU XE</th>\n",
       "      <td>8768.0</td>\n",
       "      <td>72.594967</td>\n",
       "      <td>-48.0</td>\n",
       "      <td>32.0</td>\n",
       "      <td>72.594967</td>\n",
       "      <td>111.0</td>\n",
       "      <td>255.0</td>\n",
       "      <td>53.897484</td>\n",
       "    </tr>\n",
       "    <tr>\n",
       "      <th>AN THỔ</th>\n",
       "      <td>8768.0</td>\n",
       "      <td>72.374788</td>\n",
       "      <td>-50.0</td>\n",
       "      <td>33.0</td>\n",
       "      <td>72.374788</td>\n",
       "      <td>110.0</td>\n",
       "      <td>272.0</td>\n",
       "      <td>53.133923</td>\n",
       "    </tr>\n",
       "    <tr>\n",
       "      <th>LỰC ĐIỀN</th>\n",
       "      <td>8768.0</td>\n",
       "      <td>136.623443</td>\n",
       "      <td>7.0</td>\n",
       "      <td>118.0</td>\n",
       "      <td>136.0</td>\n",
       "      <td>152.0</td>\n",
       "      <td>319.0</td>\n",
       "      <td>35.386592</td>\n",
       "    </tr>\n",
       "    <tr>\n",
       "      <th>BÁ THUỶ</th>\n",
       "      <td>8768.0</td>\n",
       "      <td>127.702153</td>\n",
       "      <td>-7.0</td>\n",
       "      <td>116.0</td>\n",
       "      <td>127.702153</td>\n",
       "      <td>140.0</td>\n",
       "      <td>261.0</td>\n",
       "      <td>28.23343</td>\n",
       "    </tr>\n",
       "    <tr>\n",
       "      <th>Datetime</th>\n",
       "      <td>8760</td>\n",
       "      <td>2017-12-30 17:36:19.726027264</td>\n",
       "      <td>2014-01-24 01:00:00</td>\n",
       "      <td>2016-06-29 11:30:00</td>\n",
       "      <td>2018-01-01 22:00:00</td>\n",
       "      <td>2019-07-03 08:30:00</td>\n",
       "      <td>2020-12-31 19:00:00</td>\n",
       "      <td>NaN</td>\n",
       "    </tr>\n",
       "  </tbody>\n",
       "</table>\n",
       "</div>"
      ],
      "text/plain": [
       "           count                           mean                  min  \\\n",
       "X. QUAN   8768.0                      191.48151                0.185   \n",
       "CẦU CẤT   8768.0                      98.899903                -29.0   \n",
       "CẦU XE    8768.0                      72.594967                -48.0   \n",
       "AN THỔ    8768.0                      72.374788                -50.0   \n",
       "LỰC ĐIỀN  8768.0                     136.623443                  7.0   \n",
       "BÁ THUỶ   8768.0                     127.702153                 -7.0   \n",
       "Datetime    8760  2017-12-30 17:36:19.726027264  2014-01-24 01:00:00   \n",
       "\n",
       "                          25%                  50%                  75%  \\\n",
       "X. QUAN                 120.0                171.0                225.0   \n",
       "CẦU CẤT                  60.0            98.899903                131.0   \n",
       "CẦU XE                   32.0            72.594967                111.0   \n",
       "AN THỔ                   33.0            72.374788                110.0   \n",
       "LỰC ĐIỀN                118.0                136.0                152.0   \n",
       "BÁ THUỶ                 116.0           127.702153                140.0   \n",
       "Datetime  2016-06-29 11:30:00  2018-01-01 22:00:00  2019-07-03 08:30:00   \n",
       "\n",
       "                          max         std  \n",
       "X. QUAN                 827.0  112.534939  \n",
       "CẦU CẤT                 328.0   52.923721  \n",
       "CẦU XE                  255.0   53.897484  \n",
       "AN THỔ                  272.0   53.133923  \n",
       "LỰC ĐIỀN                319.0   35.386592  \n",
       "BÁ THUỶ                 261.0    28.23343  \n",
       "Datetime  2020-12-31 19:00:00         NaN  "
      ]
     },
     "execution_count": 7,
     "metadata": {},
     "output_type": "execute_result"
    }
   ],
   "source": [
    "df.describe().T"
   ]
  },
  {
   "cell_type": "code",
   "execution_count": 8,
   "metadata": {},
   "outputs": [],
   "source": [
    "import seaborn as sns\n",
    "import matplotlib.pyplot as plt\n",
    "import os\n",
    "# chỉ giữ các cột số cần phân tích\n",
    "cols_to_check = ['X. QUAN', 'CẦU CẤT', 'CẦU XE', 'AN THỔ', 'LỰC ĐIỀN', 'BÁ THUỶ']\n",
    "data = df[cols_to_check]\n",
    "outliers_all = pd.DataFrame() #bảng lưu tất cả các giá trị ngoiaj lai"
   ]
  },
  {
   "cell_type": "code",
   "execution_count": 9,
   "metadata": {},
   "outputs": [],
   "source": [
    "# Hàm phát hiện ngoại lai theo IQR\n",
    "def get_outliers_iqr(series):\n",
    "    Q1= series.quantile(0.25)\n",
    "    Q3= series.quantile(0.75)\n",
    "    IQR = Q3-Q1\n",
    "    lower_bound = Q1 - 1.5 * IQR\n",
    "    upper_bound = Q3 + 1.5 * IQR\n",
    "    return series[(series < lower_bound) | (series>upper_bound)]"
   ]
  },
  {
   "cell_type": "code",
   "execution_count": 10,
   "metadata": {},
   "outputs": [
    {
     "name": "stdout",
     "output_type": "stream",
     "text": [
      "---X. QUAN---\n",
      "Số lượng giá trị ngoại lai: 554\n",
      "Giá trị ngoại lai: \n",
      "count    554.000000\n",
      "mean     515.703971\n",
      "std       98.604948\n",
      "min      383.000000\n",
      "25%      434.000000\n",
      "50%      497.500000\n",
      "75%      580.750000\n",
      "max      827.000000\n",
      "Name: X. QUAN, dtype: float64\n",
      "\n",
      "---CẦU CẤT---\n",
      "Số lượng giá trị ngoại lai: 111\n",
      "Giá trị ngoại lai: \n",
      "count    111.000000\n",
      "mean     261.207207\n",
      "std       19.652026\n",
      "min      239.000000\n",
      "25%      245.000000\n",
      "50%      258.000000\n",
      "75%      274.000000\n",
      "max      328.000000\n",
      "Name: CẦU CẤT, dtype: float64\n",
      "\n",
      "---CẦU XE---\n",
      "Số lượng giá trị ngoại lai: 11\n",
      "Giá trị ngoại lai: \n",
      "count     11.000000\n",
      "mean     239.090909\n",
      "std        8.080279\n",
      "min      230.000000\n",
      "25%      234.500000\n",
      "50%      235.000000\n",
      "75%      241.500000\n",
      "max      255.000000\n",
      "Name: CẦU XE, dtype: float64\n",
      "\n",
      "---AN THỔ---\n",
      "Số lượng giá trị ngoại lai: 14\n",
      "Giá trị ngoại lai: \n",
      "count     14.000000\n",
      "mean     242.214286\n",
      "std       13.879584\n",
      "min      226.000000\n",
      "25%      232.750000\n",
      "50%      239.500000\n",
      "75%      246.250000\n",
      "max      272.000000\n",
      "Name: AN THỔ, dtype: float64\n",
      "\n",
      "---LỰC ĐIỀN---\n",
      "Số lượng giá trị ngoại lai: 549\n",
      "Giá trị ngoại lai: \n",
      "count    549.000000\n",
      "mean     181.652095\n",
      "std       93.487075\n",
      "min        7.000000\n",
      "25%       62.000000\n",
      "50%      218.000000\n",
      "75%      248.000000\n",
      "max      319.000000\n",
      "Name: LỰC ĐIỀN, dtype: float64\n",
      "\n",
      "---BÁ THUỶ---\n",
      "Số lượng giá trị ngoại lai: 724\n",
      "Giá trị ngoại lai: \n",
      "count    724.000000\n",
      "mean     128.447514\n",
      "std       75.448379\n",
      "min       -7.000000\n",
      "25%       62.000000\n",
      "50%      128.000000\n",
      "75%      194.000000\n",
      "max      261.000000\n",
      "Name: BÁ THUỶ, dtype: float64\n",
      "\n"
     ]
    }
   ],
   "source": [
    "for col in cols_to_check:\n",
    "    outliers = get_outliers_iqr(data[col])\n",
    "    print(f\"---{col}---\")\n",
    "    if not outliers.empty:\n",
    "        outlier_df = df.loc[outliers.index, ['Ngày', 'Giờ đo', col]].copy()\n",
    "        outlier_df['Biến'] = col\n",
    "        outlier_df.rename(columns={col: 'Giá trị ngoại lai'}, inplace=True)\n",
    "        outliers_all = pd.concat([outliers_all, outlier_df], ignore_index=True)\n",
    "\n",
    "        print(f\"Số lượng giá trị ngoại lai: {outliers.count()}\")\n",
    "        print(f\"Giá trị ngoại lai: \\n{outliers.describe()}\\n\")\n",
    "    else:\n",
    "        print(\"Không có giá trị ngoại lai.\\n\")\n"
   ]
  },
  {
   "cell_type": "code",
   "execution_count": 21,
   "metadata": {},
   "outputs": [
    {
     "name": "stderr",
     "output_type": "stream",
     "text": [
      "C:\\Users\\giang\\AppData\\Local\\Temp\\ipykernel_9648\\2313158157.py:8: FutureWarning: \n",
      "\n",
      "Passing `palette` without assigning `hue` is deprecated and will be removed in v0.14.0. Assign the `x` variable to `hue` and set `legend=False` for the same effect.\n",
      "\n",
      "  sns.boxplot(x='Biến', y='Giá trị', data=data_long, palette='Set2')\n"
     ]
    },
    {
     "data": {
      "image/png": "[encoded data removed]",
      "text/plain": [
       "<Figure size 1000x600 with 1 Axes>"
      ]
     },
     "metadata": {},
     "output_type": "display_data"
    }
   ],
   "source": [
    "# Giả sử bạn có các cột mực nước từ các trạm sau\n",
    "cols_to_check =  ['X. QUAN', 'CẦU CẤT', 'CẦU XE', 'AN THỔ', 'LỰC ĐIỀN','BÁ THUỶ']\n",
    "# Chuyển sang dạng long\n",
    "data_long = data[cols_to_check].melt(var_name='Biến', value_name='Giá trị')\n",
    "\n",
    "# Vẽ boxplot gộp\n",
    "plt.figure(figsize=(10, 6))\n",
    "sns.boxplot(x='Biến', y='Giá trị', data=data_long, palette='Set2')\n",
    "\n",
    "plt.title('Boxplot của các biến mực nước')\n",
    "plt.grid(True)\n",
    "plt.xlabel('Biến')\n",
    "plt.ylabel('Giá trị')\n",
    "plt.xticks(rotation=45)\n",
    "plt.tight_layout()\n",
    "plt.show()\n"
   ]
  },
  {
   "cell_type": "code",
   "execution_count": null,
   "metadata": {},
   "outputs": [],
   "source": [
    "columns_to_clean = ['X. QUAN', 'CẦU CẤT', 'CẦU XE', 'AN THỔ', 'LỰC ĐIỀN', 'BÁ THUỶ']\n",
    "\n",
    "for col in columns_to_clean:\n",
    "    Q1 = df[col].quantile(0.25)\n",
    "    Q3 = df[col].quantile(0.75)\n",
    "    IQR = Q3 - Q1\n",
    "    lower_bound = Q1 - 1.5 * IQR\n",
    "    upper_bound = Q3 + 1.5 * IQR\n",
    "    median = df[col].median() #thay thế giá trị ngoại lai bằng trung vị\n",
    "    \n",
    "    # Thay thế giá trị ngoại lai bằng median\n",
    "    df[col] = df[col].apply(lambda x: median if (x < lower_bound or x > upper_bound) else x)\n"
   ]
  },
  {
   "cell_type": "code",
   "execution_count": 23,
   "metadata": {},
   "outputs": [],
   "source": [
    "median = df['BÁ THUỶ'].median()\n",
    "df['BÁ THUỶ'] = df['BÁ THUỶ'].apply(\n",
    "    lambda x: median if (x < lower_bound or x> upper_bound) else x)"
   ]
  },
  {
   "cell_type": "code",
   "execution_count": 24,
   "metadata": {},
   "outputs": [
    {
     "name": "stdout",
     "output_type": "stream",
     "text": [
      "Empty DataFrame\n",
      "Columns: [Ngày, Giờ đo, X. QUAN, CẦU CẤT, CẦU XE, AN THỔ, LỰC ĐIỀN, BÁ THUỶ, Giờ chuẩn, Datetime]\n",
      "Index: []\n",
      "count    8768.000000\n",
      "mean      127.640607\n",
      "std        18.100534\n",
      "min        80.000000\n",
      "25%       119.000000\n",
      "50%       127.702153\n",
      "75%       137.000000\n",
      "max       176.000000\n",
      "Name: BÁ THUỶ, dtype: float64\n"
     ]
    }
   ],
   "source": [
    "outliers_replaced = df[(df['BÁ THUỶ'] == median) & ((df['BÁ THUỶ'] <lower_bound) | (df['BÁ THUỶ'] > upper_bound))]\n",
    "print(outliers_replaced)\n",
    "print(df['BÁ THUỶ'].describe())"
   ]
  },
  {
   "cell_type": "code",
   "execution_count": 25,
   "metadata": {},
   "outputs": [
    {
     "name": "stderr",
     "output_type": "stream",
     "text": [
      "C:\\Users\\giang\\AppData\\Local\\Temp\\ipykernel_9648\\43045118.py:8: FutureWarning: A value is trying to be set on a copy of a DataFrame or Series through chained assignment using an inplace method.\n",
      "The behavior will change in pandas 3.0. This inplace method will never work because the intermediate object on which we are setting values always behaves as a copy.\n",
      "\n",
      "For example, when doing 'df[col].method(value, inplace=True)', try using 'df.method({col: value}, inplace=True)' or df[col] = df[col].method(value) instead, to perform the operation inplace on the original object.\n",
      "\n",
      "\n",
      "  df['Ngày'].fillna(method='ffill', inplace=True)\n",
      "C:\\Users\\giang\\AppData\\Local\\Temp\\ipykernel_9648\\43045118.py:8: FutureWarning: Series.fillna with 'method' is deprecated and will raise in a future version. Use obj.ffill() or obj.bfill() instead.\n",
      "  df['Ngày'].fillna(method='ffill', inplace=True)\n",
      "C:\\Users\\giang\\AppData\\Local\\Temp\\ipykernel_9648\\43045118.py:9: FutureWarning: A value is trying to be set on a copy of a DataFrame or Series through chained assignment using an inplace method.\n",
      "The behavior will change in pandas 3.0. This inplace method will never work because the intermediate object on which we are setting values always behaves as a copy.\n",
      "\n",
      "For example, when doing 'df[col].method(value, inplace=True)', try using 'df.method({col: value}, inplace=True)' or df[col] = df[col].method(value) instead, to perform the operation inplace on the original object.\n",
      "\n",
      "\n",
      "  df['Datetime'].fillna(method='ffill', inplace=True)\n",
      "C:\\Users\\giang\\AppData\\Local\\Temp\\ipykernel_9648\\43045118.py:9: FutureWarning: Series.fillna with 'method' is deprecated and will raise in a future version. Use obj.ffill() or obj.bfill() instead.\n",
      "  df['Datetime'].fillna(method='ffill', inplace=True)\n"
     ]
    }
   ],
   "source": [
    "import pandas as pd\n",
    "\n",
    "# Chuyển đổi cột ngày và datetime sang định dạng datetime\n",
    "df['Ngày'] = pd.to_datetime(df['Ngày'], errors='coerce')\n",
    "df['Datetime'] = pd.to_datetime(df['Datetime'], errors='coerce')\n",
    "\n",
    "# Điền giá trị thiếu bằng cách forward fill\n",
    "df['Ngày'].fillna(method='ffill', inplace=True)\n",
    "df['Datetime'].fillna(method='ffill', inplace=True)\n",
    "\n"
   ]
  },
  {
   "cell_type": "code",
   "execution_count": null,
   "metadata": {},
   "outputs": [
    {
     "name": "stdout",
     "output_type": "stream",
     "text": [
      "Column Ngày: has 0.00% missing data\n",
      "Column Giờ đo: has 0.00% missing data\n",
      "Column X. QUAN: has 0.00% missing data\n",
      "Column CẦU CẤT: has 0.00% missing data\n",
      "Column CẦU XE: has 0.00% missing data\n",
      "Column AN THỔ: has 0.00% missing data\n",
      "Column LỰC ĐIỀN: has 0.00% missing data\n",
      "Column BÁ THUỶ: has 0.00% missing data\n",
      "Column Giờ chuẩn: has 0.00% missing data\n",
      "Column Datetime: has 0.00% missing data\n"
     ]
    }
   ],
   "source": [
    "for col in df.columns:\n",
    "    missing_data = df[col].isna().sum()  # Tính số liệu thiếu\n",
    "    missing_percent = missing_data / len(df) * 100  # Tính tỷ lệ phần trăm\n",
    "    print(f\"Column {col}: has {missing_percent:.2f}% missing data\")"
   ]
  },
  {
   "cell_type": "code",
   "execution_count": 15,
   "metadata": {},
   "outputs": [
    {
     "name": "stdout",
     "output_type": "stream",
     "text": [
      "Lưu file thành công\n"
     ]
    }
   ],
   "source": [
    "data = '../Data/MN2015_2020_DoAn_copy.xlsx'\n",
    "df.to_excel(data, index = False)\n",
    "print(\"Lưu file thành công\")"
   ]
  },
  {
   "cell_type": "code",
   "execution_count": null,
   "metadata": {},
   "outputs": [
    {
     "name": "stdout",
     "output_type": "stream",
     "text": [
      "['Ngày', 'Giờ đo', 'X. QUAN', 'CẦU CẤT', 'CẦU XE', 'AN THỔ', 'LỰC ĐIỀN', 'BÁ THUỶ', 'Giờ chuẩn', 'Datetime']\n",
      "Lưu file thành công\n"
     ]
    }
   ],
   "source": [
    "import pandas as pd\n",
    "\n",
    "# Đọc dữ liệu\n",
    "df = pd.read_excel('../Data/MN2015_2020_DoAn_copy.xlsx')\n",
    "\n",
    "# In tên các cột để kiểm tra\n",
    "print(df.columns.tolist())\n",
    "\n",
    "# Nếu cần: chuẩn hoá tên cột để tránh lỗi do khoảng trắng hoặc ký tự đặc biệt\n",
    "df.columns = df.columns.str.strip()\n",
    "\n",
    "# Danh sách các cột cần chuyển từ cm sang m (kiểm tra kỹ tên cột sau khi in ở trên)\n",
    "cols_to_convert = [\"X. QUAN\", \"CẦU CẤT\", \"CẦU XE\", \"AN THỔ\", \"LỰC ĐIỀN\", \"BÁ THUỶ\"]  # Dùng đúng tên\n",
    "\n",
    "# Thực hiện chuyển đổi đơn vị (cm → m)\n",
    "df[cols_to_convert] = df[cols_to_convert] / 100\n",
    "\n",
    "# Lưu lại file Excel mới\n",
    "df.to_excel('../Data/MN2015_2020_DoAn.xlsx', index=False)\n",
    "\n",
    "print(\"Lưu file thành công\")\n"
   ]
  }
 ],
 "metadata": {
  "kernelspec": {
   "display_name": "Python 3",
   "language": "python",
   "name": "python3"
  },
  "language_info": {
   "codemirror_mode": {
    "name": "ipython",
    "version": 3
   },
   "file_extension": ".py",
   "mimetype": "text/x-python",
   "name": "python",
   "nbconvert_exporter": "python",
   "pygments_lexer": "ipython3",
   "version": "3.10.10"
  }
 },
 "nbformat": 4,
 "nbformat_minor": 2
}
